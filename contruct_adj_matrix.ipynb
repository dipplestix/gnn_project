{
 "cells": [
  {
   "cell_type": "code",
   "execution_count": 1,
   "metadata": {},
   "outputs": [],
   "source": [
    "import networkx as nx\n",
    "import numpy as np\n",
    "import json\n",
    "import pandas as pd\n",
    "import pickle\n",
    "\n",
    "title_embeddings = pd.read_csv(\"/Users/gabesmithline/Desktop/gnn_project/data/title_embeddings.csv\", index_col=0)\n",
    "abstract_embeddings = pd.read_csv(\"/Users/gabesmithline/Desktop/gnn_project/data/abstract_embeddings.csv\", index_col=0)\n",
    "title_embeddings = title_embeddings.transpose()\n",
    "abstract_embeddings = abstract_embeddings.transpose()\n",
    "\n",
    "with open(\"/Users/gabesmithline/Desktop/gnn_project/data/paper_source_trace_valid_wo_ans.json\", \"r\") as f:\n",
    "    paper_source = json.load(f)\n",
    "with open(\"/Users/gabesmithline/Desktop/gnn_project/data/paper_source_trace_train_ans.json\", \"r\") as f:\n",
    "    paper_source_train = json.load(f)\n",
    "paper_source = paper_source + paper_source_train\n",
    "\n",
    "G = nx.Graph()\n",
    "\n",
    "for paper in paper_source:\n",
    "    paper_id = paper[\"_id\"]\n",
    "    if paper_id in title_embeddings.index and paper_id in abstract_embeddings.index:\n",
    "        G.add_node(paper_id, \n",
    "                   title=paper[\"title\"], \n",
    "                   authors=paper[\"authors\"],\n",
    "                   year=paper[\"year\"] if \"year\" in paper else [],\n",
    "                   venue=paper[\"venue\"] if \"venue\" in paper else [],\n",
    "                   title_embeddings=title_embeddings.loc[paper_id].tolist(),\n",
    "                   abstract_embeddings=abstract_embeddings.loc[paper_id].tolist()\n",
    "                   )  \n",
    "    else:\n",
    "        G.add_node(paper_id, \n",
    "                   title=paper[\"title\"],\n",
    "                   authors=paper[\"authors\"], \n",
    "                   year=paper[\"year\"] if \"year\" in paper else [],\n",
    "                   venue=paper[\"venue\"] if \"venue\" in paper else [],\n",
    "                   title_embeddings=[],\n",
    "                   abstract_embeddings=[]\n",
    "                   )\n",
    "\n",
    "for paper in paper_source:\n",
    "    for source in paper[\"references\"]:\n",
    "        if source in G: # Only add edge if both nodes exist in graph \n",
    "            G.add_edge(paper[\"_id\"], source)\n",
    "\n",
    "\n",
    "with open('/Users/gabesmithline/Desktop/gnn_project/data/adj_matrix.pkl', 'wb') as f:\n",
    "    pickle.dump(G, f)\n",
    "\n"
   ]
  }
 ],
 "metadata": {
  "kernelspec": {
   "display_name": "ml135_env_sp21",
   "language": "python",
   "name": "python3"
  },
  "language_info": {
   "codemirror_mode": {
    "name": "ipython",
    "version": 3
   },
   "file_extension": ".py",
   "mimetype": "text/x-python",
   "name": "python",
   "nbconvert_exporter": "python",
   "pygments_lexer": "ipython3",
   "version": "3.10.8"
  }
 },
 "nbformat": 4,
 "nbformat_minor": 2
}
